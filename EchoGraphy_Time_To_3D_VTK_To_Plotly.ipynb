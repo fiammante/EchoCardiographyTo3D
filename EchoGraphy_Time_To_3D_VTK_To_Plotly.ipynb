{
 "cells": [
  {
   "cell_type": "markdown",
   "id": "925b7ea2",
   "metadata": {},
   "source": [
    "# Time to 3D rendering\n",
    "Converts the video from an Echography to a 3D rendering where time becomes the 3D dimension\n",
    "Uses VTK marching cubes algorithm\n",
    "Renders the 3D view with Plotly"
   ]
  },
  {
   "cell_type": "code",
   "execution_count": 1,
   "id": "0330b9c1",
   "metadata": {},
   "outputs": [
    {
     "name": "stdout",
     "output_type": "stream",
     "text": [
      "Read ./Anonymized_EchoCardiography06.mp4\n",
      "video opened True\n"
     ]
    }
   ],
   "source": [
    "# VTK and CV2 imports \n",
    "import vtk\n",
    "import numpy as np\n",
    "from vtk.util import numpy_support,vtkImageImportFromArray\n",
    "from vtkmodules.vtkCommonDataModel import vtkImageData\n",
    "from vtkmodules.vtkFiltersCore import (\n",
    "    vtkFlyingEdges3D,\n",
    "    vtkMarchingCubes\n",
    ")\n",
    "from vtkmodules.vtkFiltersSources import vtkSphereSource\n",
    "from vtkmodules.vtkIOImage import vtkDICOMImageReader\n",
    "from vtkmodules.vtkImagingHybrid import vtkVoxelModeller\n",
    "from vtkmodules.vtkRenderingCore import (\n",
    "    vtkActor,\n",
    "    vtkPolyDataMapper,\n",
    "    vtkRenderWindow,\n",
    "    vtkRenderWindowInteractor,\n",
    "    vtkRenderer\n",
    ")\n",
    "from vtkmodules.vtkCommonColor import vtkNamedColors\n",
    "import vtkmodules.all as vtk\n",
    "import cv2\n",
    "# read video file\n",
    "# Sample anonymized echocardiography data (replace with your actual data)\n",
    "videofile=\"./Anonymized_EchoCardiography06.mp4\"\n",
    "print(\"Read\",videofile)\n",
    "video = cv2.VideoCapture(videofile)\n",
    "anonframes=[]\n",
    "print(\"video opened\",video.isOpened())\n",
    "while(video.isOpened()):\n",
    "    ret, frame = video.read()\n",
    "    if ret == True:       \n",
    "        anonframe= cv2.cvtColor(frame, cv2.COLOR_BGR2GRAY)  \n",
    "        anonframes.append(anonframe)\n",
    "    else:\n",
    "        break\n",
    "# stack frames from video to create the 3D rendering\n",
    "image_data=np.stack(anonframes)\n",
    "# Create a VTK image importer\n",
    "image_importer = vtkImageImportFromArray.vtkImageImportFromArray()\n",
    "# Set the array data to the importer\n",
    "image_importer.SetArray(image_data)\n",
    "\n",
    "colors = vtkNamedColors()\n",
    "\n",
    "# Update the importer\n",
    "image_importer.Update()\n",
    "\n",
    "# Prepare the Marching Cubes algorithm setting the grayscale luminosity threshold to 127 \n",
    "# Rendering to triangles only occurs with a formal rendering call\n",
    "surface = vtkMarchingCubes()\n",
    "surface.SetInputData(image_importer.GetOutput()) \n",
    "surface.ComputeNormalsOn()\n",
    "surface.SetValue(0,127)\n",
    "\n",
    "# create a renderer\n",
    "renderer = vtkRenderer()\n",
    "renderer.SetBackground(colors.GetColor3d('DarkSlateGray'))\n",
    "\n",
    "render_window = vtkRenderWindow()\n",
    "render_window.AddRenderer(renderer)\n",
    "render_window.SetWindowName('MarchingCubes')\n",
    "\n",
    "interactor = vtkRenderWindowInteractor()\n",
    "interactor.SetRenderWindow(render_window)\n",
    "\n",
    "# create a Polygone data mapper\n",
    "mapper = vtkPolyDataMapper()\n",
    "mapper.SetInputConnection(surface.GetOutputPort())\n",
    "mapper.ScalarVisibilityOff()\n",
    "\n",
    "# Add the mapper as actor to the renderer\n",
    "actor = vtkActor()\n",
    "actor.SetMapper(mapper)\n",
    "actor.GetProperty().SetColor(colors.GetColor3d('MistyRose'))\n",
    "renderer.AddActor(actor)\n"
   ]
  },
  {
   "cell_type": "code",
   "execution_count": 2,
   "id": "16bbefd3",
   "metadata": {},
   "outputs": [],
   "source": [
    "# do not use VTK screens to render, but generate the polygons\n",
    "render_window.SetOffScreenRendering(True)\n",
    "render_window.Render()"
   ]
  },
  {
   "cell_type": "code",
   "execution_count": 3,
   "id": "dcaf891f",
   "metadata": {},
   "outputs": [
    {
     "name": "stdout",
     "output_type": "stream",
     "text": [
      "(4, 2754874)\n"
     ]
    }
   ],
   "source": [
    "# Get the cell polygons (triangles) from the rendered surface\n",
    "from vtk.util.numpy_support import vtk_to_numpy\n",
    "polydata=surface.GetOutput()\n",
    "cells = polydata.GetPolys()\n",
    "nCells = cells.GetNumberOfCells()\n",
    "array = cells.GetData()\n",
    "# This holds true if all polys are of the same kind, e.g. triangles.\n",
    "assert(array.GetNumberOfValues()%nCells==0)\n",
    "nCols = array.GetNumberOfValues()//nCells\n",
    "numpy_cells = vtk_to_numpy(array)\n",
    "numpy_cells = numpy_cells.reshape((-1,nCols))\n",
    "print(numpy_cells.T.shape)"
   ]
  },
  {
   "cell_type": "code",
   "execution_count": 4,
   "id": "0397f1a8",
   "metadata": {},
   "outputs": [
    {
     "name": "stdout",
     "output_type": "stream",
     "text": [
      "(3, 1388585)\n"
     ]
    }
   ],
   "source": [
    "# get the points \n",
    "points = polydata.GetPoints()\n",
    "pdata=points.GetData()\n",
    "numpy_points = vtk_to_numpy(pdata)\n",
    "print(numpy_points.T.shape)"
   ]
  },
  {
   "cell_type": "code",
   "execution_count": null,
   "id": "a0e6b48c",
   "metadata": {},
   "outputs": [],
   "source": [
    "import plotly.graph_objects as go\n",
    "# transpose for use with Plotly\n",
    "points=numpy_points.T\n",
    "# first cells columns is the size of the polygon (we skip it as it is always 3 with marching cubes)\n",
    "cells=(numpy_cells.T)[1:]\n",
    "\n",
    "fig = go.Figure(data=[\n",
    "    go.Mesh3d(\n",
    "        #  vertices of a cube\n",
    "        x=points[2],\n",
    "        y=points[0],\n",
    "        z=np.amax(points[1])-points[1],\n",
    "        colorbar_title='Point #',\n",
    "        colorscale=[[0, 'gold'],\n",
    "                    [0.2, 'mediumturquoise'],\n",
    "                    [1, 'magenta']],\n",
    "        # Intensity of each vertex, which will be interpolated and color-coded\n",
    "        intensity = np.linspace(0, 1, 1388585, endpoint=True),\n",
    "        # i, j and k give the vertices of triangles\n",
    "        i = cells[0],\n",
    "        j = cells[1],\n",
    "        k = cells[2],\n",
    "        name='y',\n",
    "        showscale=True\n",
    "    )\n",
    "])\n",
    "fig.update_layout(\n",
    "    scene=dict(\n",
    "        xaxis=dict( title='Echography Frame #'),\n",
    "        yaxis=dict(title='width'),\n",
    "        zaxis=dict(title='height'),\n",
    "    )\n",
    ")\n",
    "fig.update_layout(\n",
    "    title=dict(text=\"Time to 3D, Use mouse to rotate, zoom, etc.\")\n",
    ")\n",
    "# save html and show\n",
    "fig.write_html(\"/mnt/d/html/vtk3d.html\")\n",
    "fig.show()"
   ]
  }
 ],
 "metadata": {
  "kernelspec": {
   "display_name": "Python 3 (ipykernel)",
   "language": "python",
   "name": "python3"
  },
  "language_info": {
   "codemirror_mode": {
    "name": "ipython",
    "version": 3
   },
   "file_extension": ".py",
   "mimetype": "text/x-python",
   "name": "python",
   "nbconvert_exporter": "python",
   "pygments_lexer": "ipython3",
   "version": "3.11.7"
  }
 },
 "nbformat": 4,
 "nbformat_minor": 5
}
